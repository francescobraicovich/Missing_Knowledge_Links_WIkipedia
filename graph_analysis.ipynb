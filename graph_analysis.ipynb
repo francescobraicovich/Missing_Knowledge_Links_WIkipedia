{
 "cells": [
  {
   "cell_type": "code",
   "execution_count": 8,
   "metadata": {},
   "outputs": [],
   "source": [
    "from build_graph import build_graph\n",
    "import networkx as nx\n",
    "import matplotlib.pyplot as plt\n",
    "import numpy as np"
   ]
  },
  {
   "cell_type": "code",
   "execution_count": 9,
   "metadata": {},
   "outputs": [
    {
     "name": "stdout",
     "output_type": "stream",
     "text": [
      "Graph not found. Building a new graph.\n",
      "Initial graph built.\n",
      "Number of nodes: 8027 Number of edges: 11888\n",
      "Number of categories: 32\n",
      "\n",
      "Graph completed with new links between already present nodes.\n",
      "Number of nodes: 7473 Number of edges: 872884\n"
     ]
    }
   ],
   "source": [
    "start_page = \"Volsci\" # Change this to the page you want to start from\n",
    "depth = 2  # Adjust the depth as needed\n",
    "\n",
    "graph, links_dict, categories_dict = build_graph(start_page, depth, display=False)"
   ]
  },
  {
   "cell_type": "code",
   "execution_count": 16,
   "metadata": {},
   "outputs": [
    {
     "name": "stdout",
     "output_type": "stream",
     "text": [
      "Time taken: 4.96 seconds\n",
      "Time taken: 1.44 seconds\n"
     ]
    }
   ],
   "source": [
    "import numpy as np\n",
    "from threadpoolctl import threadpool_limits\n",
    "import time\n",
    "\n",
    "def get_common_neighbors(adj_matrix):\n",
    "    # square the adjacency matrix\n",
    "    with threadpool_limits(limits=10, user_api='blas'):\n",
    "        adj_matrix_squared = np.dot(adj_matrix, adj_matrix)\n",
    "    # set the diagonal to 0\n",
    "    np.fill_diagonal(adj_matrix_squared, 0)\n",
    "\n",
    "    return adj_matrix_squared\n",
    "\n",
    "adj_matrix = nx.to_numpy_array(graph)\n",
    "\n",
    "t0 = time.time()\n",
    "common_neighbors1 = get_common_neighbors(adj_matrix)\n",
    "t1 = time.time()\n",
    "\n",
    "print(f\"Time taken: {t1-t0:.2f} seconds\", flush=True)\n",
    "\n",
    "# convert to sparse matrix\n",
    "from scipy.sparse import csr_matrix, csc_matrix\n",
    "\n",
    "t0 = time.time()\n",
    "adj_matrix_sparse = csr_matrix(adj_matrix)\n",
    "common_neighbors_sparse1 = adj_matrix_sparse.dot(adj_matrix_sparse)\n",
    "t1 = time.time()\n",
    "\n",
    "print(f\"Time taken: {t1-t0:.2f} seconds\", flush=True)\n",
    "\n",
    "t0 = time.time()\n",
    "adj_matrix_sparse = csc_matrix(adj_matrix)\n",
    "common_neighbors_sparse2 = adj_matrix_sparse.dot(adj_matrix_sparse)\n",
    "t1 = time.time()\n",
    "\n",
    "print(f\"Time taken: {t1-t0:.2f} seconds\", flush=True)\n",
    "\n",
    "t0 = time.time()\n",
    "adj_matrix_sparse_c = csc_matrix(adj_matrix)\n",
    "adj_matrix_sparse_r = csr_matrix(adj_matrix)\n",
    "common_neighbors_sparse3 = adj_matrix_sparse_c.dot(adj_matrix_sparse_r)\n",
    "t1 = time.time()\n",
    "\n",
    "print(f\"Time taken: {t1-t0:.2f} seconds\", flush=True)\n",
    "\n",
    "t0 = time.time()\n",
    "adj_matrix_sparse_c = csc_matrix(adj_matrix)\n",
    "adj_matrix_sparse_r = csr_matrix(adj_matrix)\n",
    "common_neighbors_sparse4 = adj_matrix_sparse_r.dot(adj_matrix_sparse_c)\n",
    "t1 = time.time()"
   ]
  },
  {
   "cell_type": "code",
   "execution_count": null,
   "metadata": {},
   "outputs": [],
   "source": [
    "from neighbors import get_common_neighbors, get_total_neighbors, get_jaccard_coefficient\n",
    "\n",
    "adjacency_matrix = nx.adjacency_matrix(graph).todense()\n",
    "common_neighbors_matrix = get_common_neighbors(adjacency_matrix)\n",
    "total_neighbors_matrix = get_total_neighbors(adjacency_matrix, common_neighbors_matrix)\n",
    "jaccard_similarity_matrix = get_jaccard_coefficient(common_neighbors_matrix, total_neighbors_matrix)"
   ]
  },
  {
   "cell_type": "code",
   "execution_count": null,
   "metadata": {},
   "outputs": [
    {
     "name": "stderr",
     "output_type": "stream",
     "text": [
      "/Users/francescobraicovich/Documents/Associazioni/BSML/Missing_Knowledge_Links_WIkipedia/.venv/lib/python3.12/site-packages/sklearn/cluster/_affinity_propagation.py:142: ConvergenceWarning: Affinity propagation did not converge, this model may return degenerate cluster centers and labels.\n",
      "  warnings.warn(\n"
     ]
    },
    {
     "ename": "KeyboardInterrupt",
     "evalue": "",
     "output_type": "error",
     "traceback": [
      "\u001b[0;31m---------------------------------------------------------------------------\u001b[0m",
      "\u001b[0;31mKeyboardInterrupt\u001b[0m                         Traceback (most recent call last)",
      "Cell \u001b[0;32mIn[4], line 13\u001b[0m\n\u001b[1;32m     10\u001b[0m np\u001b[38;5;241m.\u001b[39mfill_diagonal(clustering_matrix, max_val)\n\u001b[1;32m     12\u001b[0m \u001b[38;5;66;03m# cluster the nodes\u001b[39;00m\n\u001b[0;32m---> 13\u001b[0m cluster_labels \u001b[38;5;241m=\u001b[39m \u001b[43mcluster\u001b[49m\u001b[43m(\u001b[49m\u001b[43msimilarity_arr\u001b[49m\u001b[38;5;241;43m=\u001b[39;49m\u001b[43mclustering_matrix\u001b[49m\u001b[43m,\u001b[49m\u001b[43m \u001b[49m\u001b[43mdamping_start\u001b[49m\u001b[38;5;241;43m=\u001b[39;49m\u001b[38;5;241;43m0.75\u001b[39;49m\u001b[43m)\u001b[49m\n\u001b[1;32m     15\u001b[0m \u001b[38;5;66;03m# get the number of clusters and the number of nodes in each cluster\u001b[39;00m\n\u001b[1;32m     16\u001b[0m n_clusters \u001b[38;5;241m=\u001b[39m \u001b[38;5;28mlen\u001b[39m(\u001b[38;5;28mset\u001b[39m(cluster_labels))\n",
      "File \u001b[0;32m~/Documents/Associazioni/BSML/Missing_Knowledge_Links_WIkipedia/affinity_propagation.py:34\u001b[0m, in \u001b[0;36mcluster\u001b[0;34m(similarity_arr, max_reps, damping_start)\u001b[0m\n\u001b[1;32m     32\u001b[0m \u001b[38;5;28;01mfor\u001b[39;00m i \u001b[38;5;129;01min\u001b[39;00m \u001b[38;5;28mrange\u001b[39m(max_reps):\n\u001b[1;32m     33\u001b[0m     damping \u001b[38;5;241m=\u001b[39m damping_start \u001b[38;5;241m+\u001b[39m i\u001b[38;5;241m*\u001b[39mdamping_step\n\u001b[0;32m---> 34\u001b[0m     clustering, convergence \u001b[38;5;241m=\u001b[39m \u001b[43mcluster_with_convergence_bool\u001b[49m\u001b[43m(\u001b[49m\u001b[43msimilarity_arr\u001b[49m\u001b[43m,\u001b[49m\u001b[43m \u001b[49m\u001b[43mdamping\u001b[49m\u001b[43m)\u001b[49m\n\u001b[1;32m     35\u001b[0m     \u001b[38;5;28;01mif\u001b[39;00m convergence:\n\u001b[1;32m     36\u001b[0m         \u001b[38;5;28;01mreturn\u001b[39;00m clustering\n",
      "File \u001b[0;32m~/Documents/Associazioni/BSML/Missing_Knowledge_Links_WIkipedia/affinity_propagation.py:15\u001b[0m, in \u001b[0;36mcluster_with_convergence_bool\u001b[0;34m(similarity_arr, damping)\u001b[0m\n\u001b[1;32m     11\u001b[0m sys\u001b[38;5;241m.\u001b[39mstdout \u001b[38;5;241m=\u001b[39m StringIO()\n\u001b[1;32m     13\u001b[0m \u001b[38;5;28;01mtry\u001b[39;00m:\n\u001b[1;32m     14\u001b[0m     \u001b[38;5;66;03m# Call the script function\u001b[39;00m\n\u001b[0;32m---> 15\u001b[0m     clustering  \u001b[38;5;241m=\u001b[39m \u001b[43mAffinityPropagation\u001b[49m\u001b[43m(\u001b[49m\u001b[43maffinity\u001b[49m\u001b[38;5;241;43m=\u001b[39;49m\u001b[38;5;124;43m'\u001b[39;49m\u001b[38;5;124;43mprecomputed\u001b[39;49m\u001b[38;5;124;43m'\u001b[39;49m\u001b[43m,\u001b[49m\u001b[43m \u001b[49m\u001b[43mdamping\u001b[49m\u001b[38;5;241;43m=\u001b[39;49m\u001b[43mdamping\u001b[49m\u001b[43m,\u001b[49m\u001b[43m \u001b[49m\u001b[43mverbose\u001b[49m\u001b[38;5;241;43m=\u001b[39;49m\u001b[38;5;28;43;01mTrue\u001b[39;49;00m\u001b[43m)\u001b[49m\u001b[38;5;241;43m.\u001b[39;49m\u001b[43mfit_predict\u001b[49m\u001b[43m(\u001b[49m\u001b[43msimilarity_arr\u001b[49m\u001b[43m)\u001b[49m\n\u001b[1;32m     17\u001b[0m     \u001b[38;5;66;03m# Get the printed output from the buffer\u001b[39;00m\n\u001b[1;32m     18\u001b[0m     printed_output \u001b[38;5;241m=\u001b[39m sys\u001b[38;5;241m.\u001b[39mstdout\u001b[38;5;241m.\u001b[39mgetvalue()\n",
      "File \u001b[0;32m~/Documents/Associazioni/BSML/Missing_Knowledge_Links_WIkipedia/.venv/lib/python3.12/site-packages/sklearn/cluster/_affinity_propagation.py:604\u001b[0m, in \u001b[0;36mAffinityPropagation.fit_predict\u001b[0;34m(self, X, y)\u001b[0m\n\u001b[1;32m    585\u001b[0m \u001b[38;5;28;01mdef\u001b[39;00m \u001b[38;5;21mfit_predict\u001b[39m(\u001b[38;5;28mself\u001b[39m, X, y\u001b[38;5;241m=\u001b[39m\u001b[38;5;28;01mNone\u001b[39;00m):\n\u001b[1;32m    586\u001b[0m \u001b[38;5;250m    \u001b[39m\u001b[38;5;124;03m\"\"\"Fit clustering from features/affinity matrix; return cluster labels.\u001b[39;00m\n\u001b[1;32m    587\u001b[0m \n\u001b[1;32m    588\u001b[0m \u001b[38;5;124;03m    Parameters\u001b[39;00m\n\u001b[0;32m   (...)\u001b[0m\n\u001b[1;32m    602\u001b[0m \u001b[38;5;124;03m        Cluster labels.\u001b[39;00m\n\u001b[1;32m    603\u001b[0m \u001b[38;5;124;03m    \"\"\"\u001b[39;00m\n\u001b[0;32m--> 604\u001b[0m     \u001b[38;5;28;01mreturn\u001b[39;00m \u001b[38;5;28;43msuper\u001b[39;49m\u001b[43m(\u001b[49m\u001b[43m)\u001b[49m\u001b[38;5;241;43m.\u001b[39;49m\u001b[43mfit_predict\u001b[49m\u001b[43m(\u001b[49m\u001b[43mX\u001b[49m\u001b[43m,\u001b[49m\u001b[43m \u001b[49m\u001b[43my\u001b[49m\u001b[43m)\u001b[49m\n",
      "File \u001b[0;32m~/Documents/Associazioni/BSML/Missing_Knowledge_Links_WIkipedia/.venv/lib/python3.12/site-packages/sklearn/base.py:900\u001b[0m, in \u001b[0;36mClusterMixin.fit_predict\u001b[0;34m(self, X, y, **kwargs)\u001b[0m\n\u001b[1;32m    877\u001b[0m \u001b[38;5;250m\u001b[39m\u001b[38;5;124;03m\"\"\"\u001b[39;00m\n\u001b[1;32m    878\u001b[0m \u001b[38;5;124;03mPerform clustering on `X` and returns cluster labels.\u001b[39;00m\n\u001b[1;32m    879\u001b[0m \n\u001b[0;32m   (...)\u001b[0m\n\u001b[1;32m    896\u001b[0m \u001b[38;5;124;03m    Cluster labels.\u001b[39;00m\n\u001b[1;32m    897\u001b[0m \u001b[38;5;124;03m\"\"\"\u001b[39;00m\n\u001b[1;32m    898\u001b[0m \u001b[38;5;66;03m# non-optimized default implementation; override when a better\u001b[39;00m\n\u001b[1;32m    899\u001b[0m \u001b[38;5;66;03m# method is possible for a given clustering algorithm\u001b[39;00m\n\u001b[0;32m--> 900\u001b[0m \u001b[38;5;28;43mself\u001b[39;49m\u001b[38;5;241;43m.\u001b[39;49m\u001b[43mfit\u001b[49m\u001b[43m(\u001b[49m\u001b[43mX\u001b[49m\u001b[43m,\u001b[49m\u001b[43m \u001b[49m\u001b[38;5;241;43m*\u001b[39;49m\u001b[38;5;241;43m*\u001b[39;49m\u001b[43mkwargs\u001b[49m\u001b[43m)\u001b[49m\n\u001b[1;32m    901\u001b[0m \u001b[38;5;28;01mreturn\u001b[39;00m \u001b[38;5;28mself\u001b[39m\u001b[38;5;241m.\u001b[39mlabels_\n",
      "File \u001b[0;32m~/Documents/Associazioni/BSML/Missing_Knowledge_Links_WIkipedia/.venv/lib/python3.12/site-packages/sklearn/base.py:1473\u001b[0m, in \u001b[0;36m_fit_context.<locals>.decorator.<locals>.wrapper\u001b[0;34m(estimator, *args, **kwargs)\u001b[0m\n\u001b[1;32m   1466\u001b[0m     estimator\u001b[38;5;241m.\u001b[39m_validate_params()\n\u001b[1;32m   1468\u001b[0m \u001b[38;5;28;01mwith\u001b[39;00m config_context(\n\u001b[1;32m   1469\u001b[0m     skip_parameter_validation\u001b[38;5;241m=\u001b[39m(\n\u001b[1;32m   1470\u001b[0m         prefer_skip_nested_validation \u001b[38;5;129;01mor\u001b[39;00m global_skip_validation\n\u001b[1;32m   1471\u001b[0m     )\n\u001b[1;32m   1472\u001b[0m ):\n\u001b[0;32m-> 1473\u001b[0m     \u001b[38;5;28;01mreturn\u001b[39;00m \u001b[43mfit_method\u001b[49m\u001b[43m(\u001b[49m\u001b[43mestimator\u001b[49m\u001b[43m,\u001b[49m\u001b[43m \u001b[49m\u001b[38;5;241;43m*\u001b[39;49m\u001b[43margs\u001b[49m\u001b[43m,\u001b[49m\u001b[43m \u001b[49m\u001b[38;5;241;43m*\u001b[39;49m\u001b[38;5;241;43m*\u001b[39;49m\u001b[43mkwargs\u001b[49m\u001b[43m)\u001b[49m\n",
      "File \u001b[0;32m~/Documents/Associazioni/BSML/Missing_Knowledge_Links_WIkipedia/.venv/lib/python3.12/site-packages/sklearn/cluster/_affinity_propagation.py:534\u001b[0m, in \u001b[0;36mAffinityPropagation.fit\u001b[0;34m(self, X, y)\u001b[0m\n\u001b[1;32m    526\u001b[0m preference \u001b[38;5;241m=\u001b[39m np\u001b[38;5;241m.\u001b[39masarray(preference)\n\u001b[1;32m    528\u001b[0m random_state \u001b[38;5;241m=\u001b[39m check_random_state(\u001b[38;5;28mself\u001b[39m\u001b[38;5;241m.\u001b[39mrandom_state)\n\u001b[1;32m    530\u001b[0m (\n\u001b[1;32m    531\u001b[0m     \u001b[38;5;28mself\u001b[39m\u001b[38;5;241m.\u001b[39mcluster_centers_indices_,\n\u001b[1;32m    532\u001b[0m     \u001b[38;5;28mself\u001b[39m\u001b[38;5;241m.\u001b[39mlabels_,\n\u001b[1;32m    533\u001b[0m     \u001b[38;5;28mself\u001b[39m\u001b[38;5;241m.\u001b[39mn_iter_,\n\u001b[0;32m--> 534\u001b[0m ) \u001b[38;5;241m=\u001b[39m \u001b[43m_affinity_propagation\u001b[49m\u001b[43m(\u001b[49m\n\u001b[1;32m    535\u001b[0m \u001b[43m    \u001b[49m\u001b[38;5;28;43mself\u001b[39;49m\u001b[38;5;241;43m.\u001b[39;49m\u001b[43maffinity_matrix_\u001b[49m\u001b[43m,\u001b[49m\n\u001b[1;32m    536\u001b[0m \u001b[43m    \u001b[49m\u001b[43mmax_iter\u001b[49m\u001b[38;5;241;43m=\u001b[39;49m\u001b[38;5;28;43mself\u001b[39;49m\u001b[38;5;241;43m.\u001b[39;49m\u001b[43mmax_iter\u001b[49m\u001b[43m,\u001b[49m\n\u001b[1;32m    537\u001b[0m \u001b[43m    \u001b[49m\u001b[43mconvergence_iter\u001b[49m\u001b[38;5;241;43m=\u001b[39;49m\u001b[38;5;28;43mself\u001b[39;49m\u001b[38;5;241;43m.\u001b[39;49m\u001b[43mconvergence_iter\u001b[49m\u001b[43m,\u001b[49m\n\u001b[1;32m    538\u001b[0m \u001b[43m    \u001b[49m\u001b[43mpreference\u001b[49m\u001b[38;5;241;43m=\u001b[39;49m\u001b[43mpreference\u001b[49m\u001b[43m,\u001b[49m\n\u001b[1;32m    539\u001b[0m \u001b[43m    \u001b[49m\u001b[43mdamping\u001b[49m\u001b[38;5;241;43m=\u001b[39;49m\u001b[38;5;28;43mself\u001b[39;49m\u001b[38;5;241;43m.\u001b[39;49m\u001b[43mdamping\u001b[49m\u001b[43m,\u001b[49m\n\u001b[1;32m    540\u001b[0m \u001b[43m    \u001b[49m\u001b[43mverbose\u001b[49m\u001b[38;5;241;43m=\u001b[39;49m\u001b[38;5;28;43mself\u001b[39;49m\u001b[38;5;241;43m.\u001b[39;49m\u001b[43mverbose\u001b[49m\u001b[43m,\u001b[49m\n\u001b[1;32m    541\u001b[0m \u001b[43m    \u001b[49m\u001b[43mreturn_n_iter\u001b[49m\u001b[38;5;241;43m=\u001b[39;49m\u001b[38;5;28;43;01mTrue\u001b[39;49;00m\u001b[43m,\u001b[49m\n\u001b[1;32m    542\u001b[0m \u001b[43m    \u001b[49m\u001b[43mrandom_state\u001b[49m\u001b[38;5;241;43m=\u001b[39;49m\u001b[43mrandom_state\u001b[49m\u001b[43m,\u001b[49m\n\u001b[1;32m    543\u001b[0m \u001b[43m\u001b[49m\u001b[43m)\u001b[49m\n\u001b[1;32m    545\u001b[0m \u001b[38;5;28;01mif\u001b[39;00m \u001b[38;5;28mself\u001b[39m\u001b[38;5;241m.\u001b[39maffinity \u001b[38;5;241m!=\u001b[39m \u001b[38;5;124m\"\u001b[39m\u001b[38;5;124mprecomputed\u001b[39m\u001b[38;5;124m\"\u001b[39m:\n\u001b[1;32m    546\u001b[0m     \u001b[38;5;28mself\u001b[39m\u001b[38;5;241m.\u001b[39mcluster_centers_ \u001b[38;5;241m=\u001b[39m X[\u001b[38;5;28mself\u001b[39m\u001b[38;5;241m.\u001b[39mcluster_centers_indices_]\u001b[38;5;241m.\u001b[39mcopy()\n",
      "File \u001b[0;32m~/Documents/Associazioni/BSML/Missing_Knowledge_Links_WIkipedia/.venv/lib/python3.12/site-packages/sklearn/cluster/_affinity_propagation.py:111\u001b[0m, in \u001b[0;36m_affinity_propagation\u001b[0;34m(S, preference, convergence_iter, max_iter, damping, verbose, return_n_iter, random_state)\u001b[0m\n\u001b[1;32m    109\u001b[0m tmp \u001b[38;5;241m-\u001b[39m\u001b[38;5;241m=\u001b[39m np\u001b[38;5;241m.\u001b[39msum(tmp, axis\u001b[38;5;241m=\u001b[39m\u001b[38;5;241m0\u001b[39m)\n\u001b[1;32m    110\u001b[0m dA \u001b[38;5;241m=\u001b[39m np\u001b[38;5;241m.\u001b[39mdiag(tmp)\u001b[38;5;241m.\u001b[39mcopy()\n\u001b[0;32m--> 111\u001b[0m \u001b[43mtmp\u001b[49m\u001b[38;5;241;43m.\u001b[39;49m\u001b[43mclip\u001b[49m\u001b[43m(\u001b[49m\u001b[38;5;241;43m0\u001b[39;49m\u001b[43m,\u001b[49m\u001b[43m \u001b[49m\u001b[43mnp\u001b[49m\u001b[38;5;241;43m.\u001b[39;49m\u001b[43minf\u001b[49m\u001b[43m,\u001b[49m\u001b[43m \u001b[49m\u001b[43mtmp\u001b[49m\u001b[43m)\u001b[49m\n\u001b[1;32m    112\u001b[0m tmp\u001b[38;5;241m.\u001b[39mflat[:: n_samples \u001b[38;5;241m+\u001b[39m \u001b[38;5;241m1\u001b[39m] \u001b[38;5;241m=\u001b[39m dA\n\u001b[1;32m    114\u001b[0m \u001b[38;5;66;03m# Damping\u001b[39;00m\n",
      "File \u001b[0;32m~/Documents/Associazioni/BSML/Missing_Knowledge_Links_WIkipedia/.venv/lib/python3.12/site-packages/numpy/core/_methods.py:99\u001b[0m, in \u001b[0;36m_clip\u001b[0;34m(a, min, max, out, **kwargs)\u001b[0m\n\u001b[1;32m     97\u001b[0m     \u001b[38;5;28;01mreturn\u001b[39;00m um\u001b[38;5;241m.\u001b[39mmaximum(a, \u001b[38;5;28mmin\u001b[39m, out\u001b[38;5;241m=\u001b[39mout, \u001b[38;5;241m*\u001b[39m\u001b[38;5;241m*\u001b[39mkwargs)\n\u001b[1;32m     98\u001b[0m \u001b[38;5;28;01melse\u001b[39;00m:\n\u001b[0;32m---> 99\u001b[0m     \u001b[38;5;28;01mreturn\u001b[39;00m \u001b[43mum\u001b[49m\u001b[38;5;241;43m.\u001b[39;49m\u001b[43mclip\u001b[49m\u001b[43m(\u001b[49m\u001b[43ma\u001b[49m\u001b[43m,\u001b[49m\u001b[43m \u001b[49m\u001b[38;5;28;43mmin\u001b[39;49m\u001b[43m,\u001b[49m\u001b[43m \u001b[49m\u001b[38;5;28;43mmax\u001b[39;49m\u001b[43m,\u001b[49m\u001b[43m \u001b[49m\u001b[43mout\u001b[49m\u001b[38;5;241;43m=\u001b[39;49m\u001b[43mout\u001b[49m\u001b[43m,\u001b[49m\u001b[43m \u001b[49m\u001b[38;5;241;43m*\u001b[39;49m\u001b[38;5;241;43m*\u001b[39;49m\u001b[43mkwargs\u001b[49m\u001b[43m)\u001b[49m\n",
      "\u001b[0;31mKeyboardInterrupt\u001b[0m: "
     ]
    }
   ],
   "source": [
    "from affinity_propagation import cluster\n",
    "\n",
    "# combine the adjacency matrix and the jaccard similarity matrix\n",
    "clustering_matrix = adjacency_matrix + jaccard_similarity_matrix\n",
    "\n",
    "# find the maximum value in the matrix\n",
    "max_val = np.max(clustering_matrix)\n",
    "\n",
    "# set the diagonal to the maximum value\n",
    "np.fill_diagonal(clustering_matrix, max_val)\n",
    "\n",
    "# cluster the nodes\n",
    "cluster_labels = cluster(similarity_arr=clustering_matrix, damping_start=0.75)\n",
    "\n",
    "# get the number of clusters and the number of nodes in each cluster\n",
    "n_clusters = len(set(cluster_labels))\n",
    "cluster_sizes = [np.sum(cluster_labels == i) for i in range(n_clusters)]\n",
    "print(f\"Number of clusters: {n_clusters}\")\n",
    "print(f\"Cluster sizes: {cluster_sizes}\")"
   ]
  },
  {
   "cell_type": "code",
   "execution_count": null,
   "metadata": {},
   "outputs": [
    {
     "name": "stdout",
     "output_type": "stream",
     "text": [
      "Similarity threshold: 0.9340659340659341\n"
     ]
    }
   ],
   "source": [
    "# set the diagonal of the adjacency matrix to 0\n",
    "np.fill_diagonal(adjacency_matrix, 0)\n",
    "boolean_adjacency_matrix = adjacency_matrix > 0\n",
    "masked_similarity_matrix = jaccard_similarity_matrix[boolean_adjacency_matrix]\n",
    "\n",
    "quantile_threshold = 0.7\n",
    "threshold = np.quantile(masked_similarity_matrix, quantile_threshold)\n",
    "print(f'Similarity threshold: {threshold}')"
   ]
  },
  {
   "cell_type": "code",
   "execution_count": null,
   "metadata": {},
   "outputs": [
    {
     "name": "stdout",
     "output_type": "stream",
     "text": [
      "Number of missing links: 10\n",
      "Top 10 missing links:\n",
      "0: Guy Laroque <-- 1.0 --> Jean-Charles Rochet\n",
      "1: Guy Laroque <-- 1.0 --> Jean-Michel Grandmont\n",
      "2: Jan Eeckhout <-- 1.0 --> Louis Philps\n",
      "3: Jan Eeckhout <-- 1.0 --> Maristella Botticini\n",
      "4: Jean-Charles Rochet <-- 1.0 --> Jean-Michel Grandmont\n",
      "5: Louis Philps <-- 1.0 --> Maristella Botticini\n",
      "6: Guy Laroque <-- 0.9880952380952381 --> Herbert Scarf\n",
      "7: Herbert Scarf <-- 0.9880952380952381 --> Jean-Charles Rochet\n",
      "8: Herbert Scarf <-- 0.9880952380952381 --> Jean-Michel Grandmont\n",
      "9: Nicholas Stern <-- 0.9767441860465116 --> Nicholas Stern, Baron Stern of Brentford\n",
      "\n"
     ]
    }
   ],
   "source": [
    "from missing_links import find_missing_links, print_missing_links\n",
    "\n",
    "missing_links = find_missing_links(graph, jaccard_similarity_matrix, cluster_labels, threshold)\n",
    "\n",
    "print(f\"Number of missing links: {len(missing_links)}\")\n",
    "\n",
    "# remove printing limit\n",
    "np.set_printoptions(threshold=np.inf)\n",
    "n = 20\n",
    "print_missing_links(missing_links, n)"
   ]
  },
  {
   "cell_type": "code",
   "execution_count": null,
   "metadata": {},
   "outputs": [
    {
     "name": "stdout",
     "output_type": "stream",
     "text": [
      "Start page cluster: 0\n",
      "Top 10 missing links:\n",
      "0: Guy Laroque <-- 1.0 --> Jean-Charles Rochet\n",
      "1: Guy Laroque <-- 1.0 --> Jean-Michel Grandmont\n",
      "2: Jan Eeckhout <-- 1.0 --> Louis Philps\n",
      "3: Jan Eeckhout <-- 1.0 --> Maristella Botticini\n",
      "4: Jean-Charles Rochet <-- 1.0 --> Jean-Michel Grandmont\n",
      "5: Louis Philps <-- 1.0 --> Maristella Botticini\n",
      "6: Guy Laroque <-- 0.9880952380952381 --> Herbert Scarf\n",
      "7: Herbert Scarf <-- 0.9880952380952381 --> Jean-Charles Rochet\n",
      "8: Herbert Scarf <-- 0.9880952380952381 --> Jean-Michel Grandmont\n",
      "9: Nicholas Stern <-- 0.9767441860465116 --> Nicholas Stern, Baron Stern of Brentford\n",
      "\n"
     ]
    }
   ],
   "source": [
    "# find the cluster of the start page\n",
    "start_page_cluster = cluster_labels[list(graph.nodes).index(start_page)]\n",
    "print(f\"Start page cluster: {start_page_cluster}\")\n",
    "\n",
    "# find missing links that are in the same cluster as the start page\n",
    "same_cluster_missing_links  = find_missing_links(graph, jaccard_similarity_matrix, cluster_labels, threshold, specific_cluster=start_page_cluster)\n",
    "\n",
    "print_missing_links(same_cluster_missing_links, n)"
   ]
  },
  {
   "cell_type": "code",
   "execution_count": null,
   "metadata": {},
   "outputs": [
    {
     "name": "stdout",
     "output_type": "stream",
     "text": [
      "Top 10 missing links:\n",
      "\n"
     ]
    }
   ],
   "source": [
    "# find missing links that involve the start page\n",
    "start_page_missing_links = find_missing_links(graph, jaccard_similarity_matrix, cluster_labels, threshold, specific_node=start_page)\n",
    "\n",
    "print_missing_links(start_page_missing_links, n)"
   ]
  },
  {
   "cell_type": "code",
   "execution_count": null,
   "metadata": {},
   "outputs": [
    {
     "name": "stdout",
     "output_type": "stream",
     "text": [
      "Number of clusters: 1\n",
      "Cluster sizes: [122]\n"
     ]
    }
   ],
   "source": [
    "from sklearn.cluster import KMeans\n",
    "\n",
    "num_nodes = len(graph.nodes)\n",
    "num_clusters = max(1, int(num_nodes / 100))\n",
    "\n",
    "kmeans = KMeans(n_clusters=num_clusters, random_state=0).fit(clustering_matrix)\n",
    "\n",
    "cluster_labels = kmeans.labels_\n",
    "\n",
    "# get the number of clusters and the number of nodes in each cluster\n",
    "n_clusters = len(set(cluster_labels))\n",
    "cluster_sizes = [np.sum(cluster_labels == i) for i in range(n_clusters)]\n",
    "print(f\"Number of clusters: {n_clusters}\")\n",
    "print(f\"Cluster sizes: {cluster_sizes}\")"
   ]
  },
  {
   "cell_type": "code",
   "execution_count": null,
   "metadata": {},
   "outputs": [],
   "source": [
    "# find missing links with the new clustering\n",
    "missing_links = find_missing_links(graph, jaccard_similarity_matrix, cluster_labels, threshold)\n",
    "print(f\"Number of missing links: {len(missing_links)}\")\n",
    "\n",
    "print_missing_links(missing_links, n)"
   ]
  },
  {
   "cell_type": "code",
   "execution_count": null,
   "metadata": {},
   "outputs": [],
   "source": [
    "# find missing links that are in the same cluster as the start page\n",
    "start_page_cluster = cluster_labels[list(graph.nodes).index(start_page)]\n",
    "same_cluster_missing_links  = find_missing_links(graph, jaccard_similarity_matrix, cluster_labels, threshold, specific_cluster=start_page_cluster)\n",
    "print_missing_links(same_cluster_missing_links, n)"
   ]
  },
  {
   "cell_type": "code",
   "execution_count": null,
   "metadata": {},
   "outputs": [],
   "source": [
    "# find missing links that involve the start page\n",
    "start_page_missing_links = find_missing_links(graph, jaccard_similarity_matrix, cluster_labels, threshold, specific_node=start_page)\n",
    "print_missing_links(start_page_missing_links, n)"
   ]
  }
 ],
 "metadata": {
  "kernelspec": {
   "display_name": ".venv",
   "language": "python",
   "name": "python3"
  },
  "language_info": {
   "codemirror_mode": {
    "name": "ipython",
    "version": 3
   },
   "file_extension": ".py",
   "mimetype": "text/x-python",
   "name": "python",
   "nbconvert_exporter": "python",
   "pygments_lexer": "ipython3",
   "version": "3.12.2"
  }
 },
 "nbformat": 4,
 "nbformat_minor": 2
}
